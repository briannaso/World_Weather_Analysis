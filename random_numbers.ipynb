{
 "cells": [
  {
   "cell_type": "code",
   "execution_count": null,
   "id": "14677f78",
   "metadata": {},
   "outputs": [],
   "source": [
    "# import random"
   ]
  },
  {
   "cell_type": "code",
   "execution_count": null,
   "id": "619b3702",
   "metadata": {},
   "outputs": [],
   "source": [
    "# Using the random() Function (6.1.4)"
   ]
  },
  {
   "cell_type": "code",
   "execution_count": null,
   "id": "1883a065",
   "metadata": {},
   "outputs": [],
   "source": [
    "# rand.int() will only return one integer, not a floating-point \n",
    "#decimal, between the given intervals\n",
    "random.randint(-90,90)"
   ]
  },
  {
   "cell_type": "code",
   "execution_count": null,
   "id": "bd6fa648",
   "metadata": {},
   "outputs": [],
   "source": [
    "# random() only provides a single floating-point decimal \n",
    "#number between 0 and 1.0.\n",
    "random.random()"
   ]
  },
  {
   "cell_type": "code",
   "execution_count": null,
   "id": "41e6c95a",
   "metadata": {},
   "outputs": [],
   "source": [
    "# combine random() and randint()\n",
    "random_number = random.randint(-90,89) + random.random()\n",
    "random_number"
   ]
  },
  {
   "cell_type": "code",
   "execution_count": null,
   "id": "2421d2bb",
   "metadata": {},
   "outputs": [],
   "source": [
    "# Using these two functions, we can write an algorithm \n",
    "#that will generate latitudes between –90 and 89\n",
    "\n",
    "# Assign the variable x to 1\n",
    "x = 1\n",
    "\n",
    "#Initialize an empty list, 'latitudes'\n",
    "latitudes = []\n",
    "\n",
    "# We create a while loop where we generate a \n",
    "# random latitude, add it to the list\n",
    "while x <11:\n",
    "\n",
    "    random_lat = random.randint(-90,89) + random.random()\n",
    "\n",
    "    latitudes.append(random_lat)\n",
    "    \n",
    "# After the random latitude is \n",
    "#added to the list we add one to the variable \"x\"   \n",
    "    x += 1\n",
    "    \n",
    "#The while loop condition is checked again and will \n",
    "#continue to run as long as x is less than 11"
   ]
  },
  {
   "cell_type": "code",
   "execution_count": null,
   "id": "67dcac7c",
   "metadata": {},
   "outputs": [],
   "source": [
    "latitudes"
   ]
  },
  {
   "cell_type": "code",
   "execution_count": null,
   "id": "4e6db2c2",
   "metadata": {},
   "outputs": [],
   "source": [
    "# Using the randrange() Function (6.1.4)"
   ]
  },
  {
   "cell_type": "code",
   "execution_count": null,
   "id": "09df7bc0",
   "metadata": {},
   "outputs": [],
   "source": [
    "# will generate increments of a given integer value, \n",
    "# from the lower to the upper limit. The default value for step is 1.\n",
    "random.randrange(-90,90, step = 3)"
   ]
  },
  {
   "cell_type": "code",
   "execution_count": null,
   "id": "aa72c8b2",
   "metadata": {},
   "outputs": [],
   "source": [
    "# The uniform() Function (6.1.4)\n",
    "# generate a floating-point decimal number \n",
    "# between two given numbers inside the parentheses"
   ]
  },
  {
   "cell_type": "code",
   "execution_count": null,
   "id": "da4984c2",
   "metadata": {},
   "outputs": [],
   "source": [
    "random.uniform(-90,90)"
   ]
  },
  {
   "cell_type": "code",
   "execution_count": null,
   "id": "5cde3fb9",
   "metadata": {},
   "outputs": [],
   "source": [
    "# The NumPy and random Modules "
   ]
  },
  {
   "cell_type": "code",
   "execution_count": 60,
   "id": "e2ad7756",
   "metadata": {},
   "outputs": [],
   "source": [
    "import numpy as np\n",
    "import timeit"
   ]
  },
  {
   "cell_type": "code",
   "execution_count": 66,
   "id": "2be82686",
   "metadata": {},
   "outputs": [
    {
     "name": "stdout",
     "output_type": "stream",
     "text": [
      "9.98 µs ± 75 ns per loop (mean ± std. dev. of 7 runs, 100000 loops each)\n"
     ]
    }
   ],
   "source": [
    "%timeit np.random.uniform(-90.000, 90.000, size = 1500)"
   ]
  },
  {
   "cell_type": "code",
   "execution_count": 68,
   "id": "c812d63c",
   "metadata": {},
   "outputs": [
    {
     "name": "stdout",
     "output_type": "stream",
     "text": [
      "969 µs ± 11.4 µs per loop (mean ± std. dev. of 7 runs, 1000 loops each)\n"
     ]
    }
   ],
   "source": [
    "def latitudes(size):\n",
    "    latitudes = []\n",
    "    x = 0\n",
    "    while x < (size):\n",
    "        random_lat = random.randint(-90, 90) + random.random()\n",
    "        latitudes.append(random_lat)\n",
    "        x += 1\n",
    "    return latitudes\n",
    "# Call the function with 1500.\n",
    "%timeit latitudes(1500)"
   ]
  },
  {
   "cell_type": "code",
   "execution_count": 69,
   "id": "2da6f107",
   "metadata": {},
   "outputs": [
    {
     "name": "stdout",
     "output_type": "stream",
     "text": [
      "16.9 ms ± 299 µs per loop (mean ± std. dev. of 7 runs, 100 loops each)\n"
     ]
    }
   ],
   "source": [
    "def latitudes(size):\n",
    "    latitudes = []\n",
    "    x = 0\n",
    "    while x < (size):\n",
    "        random_lat = np.random.uniform(-90.000, 90.000, size = 1500)\n",
    "        latitudes.append(random_lat)\n",
    "        x += 1\n",
    "    return latitudes\n",
    "# Call the function with 1500.\n",
    "%timeit latitudes(1500)"
   ]
  },
  {
   "cell_type": "code",
   "execution_count": null,
   "id": "e5644bb7",
   "metadata": {},
   "outputs": [],
   "source": []
  }
 ],
 "metadata": {
  "kernelspec": {
   "display_name": "Python 3",
   "language": "python",
   "name": "python3"
  },
  "language_info": {
   "codemirror_mode": {
    "name": "ipython",
    "version": 3
   },
   "file_extension": ".py",
   "mimetype": "text/x-python",
   "name": "python",
   "nbconvert_exporter": "python",
   "pygments_lexer": "ipython3",
   "version": "3.8.8"
  }
 },
 "nbformat": 4,
 "nbformat_minor": 5
}
