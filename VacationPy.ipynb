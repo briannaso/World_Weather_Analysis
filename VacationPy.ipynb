{
 "cells": [
  {
   "cell_type": "code",
   "execution_count": 1,
   "id": "715947cd",
   "metadata": {},
   "outputs": [],
   "source": [
    "# Create Heatmaps for Weather Parameters (6.5.2)\n",
    "# Import the dependencies.\n",
    "import pandas as pd\n",
    "import gmaps\n",
    "import requests as requests\n",
    "\n",
    "# Import the API key.\n",
    "from config import g_key"
   ]
  },
  {
   "cell_type": "code",
   "execution_count": 11,
   "id": "ae8d42d6",
   "metadata": {},
   "outputs": [],
   "source": [
    "# Configure gmaps to use your Google API key.\n",
    "gmaps.configure(api_key = g_key)"
   ]
  },
  {
   "cell_type": "code",
   "execution_count": 12,
   "id": "1636a684",
   "metadata": {},
   "outputs": [
    {
     "data": {
      "text/html": [
       "<div>\n",
       "<style scoped>\n",
       "    .dataframe tbody tr th:only-of-type {\n",
       "        vertical-align: middle;\n",
       "    }\n",
       "\n",
       "    .dataframe tbody tr th {\n",
       "        vertical-align: top;\n",
       "    }\n",
       "\n",
       "    .dataframe thead th {\n",
       "        text-align: right;\n",
       "    }\n",
       "</style>\n",
       "<table border=\"1\" class=\"dataframe\">\n",
       "  <thead>\n",
       "    <tr style=\"text-align: right;\">\n",
       "      <th></th>\n",
       "      <th>City_ID</th>\n",
       "      <th>City</th>\n",
       "      <th>Lat</th>\n",
       "      <th>Lng</th>\n",
       "      <th>Max Temp</th>\n",
       "      <th>Humidity</th>\n",
       "      <th>Cloudiness</th>\n",
       "      <th>Wind Speed</th>\n",
       "      <th>Country</th>\n",
       "      <th>Date</th>\n",
       "    </tr>\n",
       "  </thead>\n",
       "  <tbody>\n",
       "    <tr>\n",
       "      <th>0</th>\n",
       "      <td>0</td>\n",
       "      <td>Pauini</td>\n",
       "      <td>-7.7136</td>\n",
       "      <td>-66.9764</td>\n",
       "      <td>76.23</td>\n",
       "      <td>81</td>\n",
       "      <td>48</td>\n",
       "      <td>2.37</td>\n",
       "      <td>BR</td>\n",
       "      <td>2021-09-24 01:53:32</td>\n",
       "    </tr>\n",
       "    <tr>\n",
       "      <th>1</th>\n",
       "      <td>1</td>\n",
       "      <td>Caravelas</td>\n",
       "      <td>-17.7125</td>\n",
       "      <td>-39.2481</td>\n",
       "      <td>71.04</td>\n",
       "      <td>62</td>\n",
       "      <td>65</td>\n",
       "      <td>9.53</td>\n",
       "      <td>BR</td>\n",
       "      <td>2021-09-24 01:53:32</td>\n",
       "    </tr>\n",
       "    <tr>\n",
       "      <th>2</th>\n",
       "      <td>2</td>\n",
       "      <td>Ossora</td>\n",
       "      <td>59.2353</td>\n",
       "      <td>163.0719</td>\n",
       "      <td>53.15</td>\n",
       "      <td>57</td>\n",
       "      <td>19</td>\n",
       "      <td>1.99</td>\n",
       "      <td>RU</td>\n",
       "      <td>2021-09-24 01:53:33</td>\n",
       "    </tr>\n",
       "    <tr>\n",
       "      <th>3</th>\n",
       "      <td>3</td>\n",
       "      <td>Rikitea</td>\n",
       "      <td>-23.1203</td>\n",
       "      <td>-134.9692</td>\n",
       "      <td>74.12</td>\n",
       "      <td>78</td>\n",
       "      <td>100</td>\n",
       "      <td>23.24</td>\n",
       "      <td>PF</td>\n",
       "      <td>2021-09-24 01:53:33</td>\n",
       "    </tr>\n",
       "    <tr>\n",
       "      <th>4</th>\n",
       "      <td>4</td>\n",
       "      <td>Nisia Floresta</td>\n",
       "      <td>-6.0911</td>\n",
       "      <td>-35.2086</td>\n",
       "      <td>79.61</td>\n",
       "      <td>83</td>\n",
       "      <td>21</td>\n",
       "      <td>9.78</td>\n",
       "      <td>BR</td>\n",
       "      <td>2021-09-24 01:53:33</td>\n",
       "    </tr>\n",
       "  </tbody>\n",
       "</table>\n",
       "</div>"
      ],
      "text/plain": [
       "   City_ID            City      Lat       Lng  Max Temp  Humidity  Cloudiness  \\\n",
       "0        0          Pauini  -7.7136  -66.9764     76.23        81          48   \n",
       "1        1       Caravelas -17.7125  -39.2481     71.04        62          65   \n",
       "2        2          Ossora  59.2353  163.0719     53.15        57          19   \n",
       "3        3         Rikitea -23.1203 -134.9692     74.12        78         100   \n",
       "4        4  Nisia Floresta  -6.0911  -35.2086     79.61        83          21   \n",
       "\n",
       "   Wind Speed Country                 Date  \n",
       "0        2.37      BR  2021-09-24 01:53:32  \n",
       "1        9.53      BR  2021-09-24 01:53:32  \n",
       "2        1.99      RU  2021-09-24 01:53:33  \n",
       "3       23.24      PF  2021-09-24 01:53:33  \n",
       "4        9.78      BR  2021-09-24 01:53:33  "
      ]
     },
     "execution_count": 12,
     "metadata": {},
     "output_type": "execute_result"
    }
   ],
   "source": [
    "# Store the CSV you saved created in part one into a DataFrame.\n",
    "city_data_df = pd.read_csv(\"weather_data/cities.csv\")\n",
    "city_data_df.head()"
   ]
  },
  {
   "cell_type": "code",
   "execution_count": 13,
   "id": "59e8ec42",
   "metadata": {},
   "outputs": [
    {
     "data": {
      "text/plain": [
       "City_ID         int64\n",
       "City           object\n",
       "Lat           float64\n",
       "Lng           float64\n",
       "Max Temp      float64\n",
       "Humidity        int64\n",
       "Cloudiness      int64\n",
       "Wind Speed    float64\n",
       "Country        object\n",
       "Date           object\n",
       "dtype: object"
      ]
     },
     "execution_count": 13,
     "metadata": {},
     "output_type": "execute_result"
    }
   ],
   "source": [
    "city_data_df.dtypes"
   ]
  },
  {
   "cell_type": "code",
   "execution_count": 29,
   "id": "c7f62cc4",
   "metadata": {},
   "outputs": [
    {
     "data": {
      "application/vnd.jupyter.widget-view+json": {
       "model_id": "776b0c7f12274bc3bc3feddfa3438b7b",
       "version_major": 2,
       "version_minor": 0
      },
      "text/plain": [
       "Figure(layout=FigureLayout(height='420px'))"
      ]
     },
     "metadata": {},
     "output_type": "display_data"
    }
   ],
   "source": [
    "# Heatmap of temperature\n",
    "\n",
    "# Get the latitude and longitude.\n",
    "locations = city_data_df[[\"Lat\", \"Lng\"]]\n",
    "\n",
    "# Get the maximum temperature.\n",
    "max_temp = city_data_df[\"Max Temp\"]\n",
    "\n",
    "# Assign the figure variable.\n",
    "fig = gmaps.figure(center=(30.0, 31.0), zoom_level=1.5)\n",
    "# Assign the heatmap variable.\n",
    "heat_layer = gmaps.heatmap_layer(locations, weights=[max(temp, 0) for temp in max_temp], \n",
    "                                 dissipating=False, max_intensity=300, point_radius=4)\n",
    "# Add the heatmap layer.\n",
    "fig.add_layer(heat_layer)\n",
    "# Call the figure to plot the data.\n",
    "fig"
   ]
  },
  {
   "cell_type": "code",
   "execution_count": 31,
   "id": "329a2588",
   "metadata": {},
   "outputs": [
    {
     "data": {
      "application/vnd.jupyter.widget-view+json": {
       "model_id": "e887432609124d58857439ff785706e4",
       "version_major": 2,
       "version_minor": 0
      },
      "text/plain": [
       "Figure(layout=FigureLayout(height='420px'))"
      ]
     },
     "metadata": {},
     "output_type": "display_data"
    }
   ],
   "source": [
    "# Heatmap of percent humidity\n",
    "locations = city_data_df[[\"Lat\", \"Lng\"]]\n",
    "humidity = city_data_df[\"Humidity\"]\n",
    "fig = gmaps.figure(center=(30.0, 31.0), zoom_level=1.5)\n",
    "heat_layer = gmaps.heatmap_layer(locations, weights=humidity, dissipating=False, \n",
    "                                 max_intensity=300, point_radius=4)\n",
    "\n",
    "fig.add_layer(heat_layer)\n",
    "# Call the figure to plot the data.\n",
    "fig"
   ]
  },
  {
   "cell_type": "code",
   "execution_count": 33,
   "id": "112d5026",
   "metadata": {},
   "outputs": [
    {
     "data": {
      "application/vnd.jupyter.widget-view+json": {
       "model_id": "565d7d6243bc4c62af8657e9cc692008",
       "version_major": 2,
       "version_minor": 0
      },
      "text/plain": [
       "Figure(layout=FigureLayout(height='420px'))"
      ]
     },
     "metadata": {},
     "output_type": "display_data"
    }
   ],
   "source": [
    "# Heatmap of Cloudiness\n",
    "\n",
    "locations = city_data_df[[\"Lat\", \"Lng\"]]\n",
    "clouds = city_data_df[\"Cloudiness\"]\n",
    "fig = gmaps.figure(center=(30.0, 31.0), zoom_level=1.5)\n",
    "heat_layer = gmaps.heatmap_layer(locations, weights=clouds, dissipating=False, \n",
    "                                 max_intensity=300, point_radius=4)\n",
    "\n",
    "fig.add_layer(heat_layer)\n",
    "\n",
    "# Call the figure to plot the data.\n",
    "fig"
   ]
  },
  {
   "cell_type": "code",
   "execution_count": 34,
   "id": "9cf50974",
   "metadata": {},
   "outputs": [
    {
     "data": {
      "application/vnd.jupyter.widget-view+json": {
       "model_id": "ec6f5b704960464da89b7112cf540ff9",
       "version_major": 2,
       "version_minor": 0
      },
      "text/plain": [
       "Figure(layout=FigureLayout(height='420px'))"
      ]
     },
     "metadata": {},
     "output_type": "display_data"
    }
   ],
   "source": [
    "# Heatmap of Wind Speed\n",
    "\n",
    "locations = city_data_df[[\"Lat\", \"Lng\"]]\n",
    "wind = city_data_df[\"Wind Speed\"]\n",
    "fig = gmaps.figure(center=(30.0, 31.0), zoom_level=1.5)\n",
    "heat_layer = gmaps.heatmap_layer(locations, weights=wind, dissipating=False, \n",
    "                                 max_intensity=300, point_radius=4)\n",
    "\n",
    "fig.add_layer(heat_layer)\n",
    "\n",
    "# Call the figure to plot the data.\n",
    "fig"
   ]
  },
  {
   "cell_type": "code",
   "execution_count": 36,
   "id": "06aafb69",
   "metadata": {},
   "outputs": [
    {
     "name": "stdout",
     "output_type": "stream",
     "text": [
      "What is the minimum temperature you would like for your trip? 75\n",
      "What is the maximum temperature you would like for your trip? 90\n"
     ]
    }
   ],
   "source": [
    "# Ask the customer to add a minimum and maximum temperature value.\n",
    "min_temp = float(input(\"What is the minimum temperature you would like for your trip? \"))\n",
    "max_temp = float(input(\"What is the maximum temperature you would like for your trip? \"))"
   ]
  },
  {
   "cell_type": "code",
   "execution_count": 37,
   "id": "e10d139b",
   "metadata": {},
   "outputs": [
    {
     "data": {
      "text/html": [
       "<div>\n",
       "<style scoped>\n",
       "    .dataframe tbody tr th:only-of-type {\n",
       "        vertical-align: middle;\n",
       "    }\n",
       "\n",
       "    .dataframe tbody tr th {\n",
       "        vertical-align: top;\n",
       "    }\n",
       "\n",
       "    .dataframe thead th {\n",
       "        text-align: right;\n",
       "    }\n",
       "</style>\n",
       "<table border=\"1\" class=\"dataframe\">\n",
       "  <thead>\n",
       "    <tr style=\"text-align: right;\">\n",
       "      <th></th>\n",
       "      <th>City_ID</th>\n",
       "      <th>City</th>\n",
       "      <th>Lat</th>\n",
       "      <th>Lng</th>\n",
       "      <th>Max Temp</th>\n",
       "      <th>Humidity</th>\n",
       "      <th>Cloudiness</th>\n",
       "      <th>Wind Speed</th>\n",
       "      <th>Country</th>\n",
       "      <th>Date</th>\n",
       "    </tr>\n",
       "  </thead>\n",
       "  <tbody>\n",
       "    <tr>\n",
       "      <th>0</th>\n",
       "      <td>0</td>\n",
       "      <td>Pauini</td>\n",
       "      <td>-7.7136</td>\n",
       "      <td>-66.9764</td>\n",
       "      <td>76.23</td>\n",
       "      <td>81</td>\n",
       "      <td>48</td>\n",
       "      <td>2.37</td>\n",
       "      <td>BR</td>\n",
       "      <td>2021-09-24 01:53:32</td>\n",
       "    </tr>\n",
       "    <tr>\n",
       "      <th>4</th>\n",
       "      <td>4</td>\n",
       "      <td>Nisia Floresta</td>\n",
       "      <td>-6.0911</td>\n",
       "      <td>-35.2086</td>\n",
       "      <td>79.61</td>\n",
       "      <td>83</td>\n",
       "      <td>21</td>\n",
       "      <td>9.78</td>\n",
       "      <td>BR</td>\n",
       "      <td>2021-09-24 01:53:33</td>\n",
       "    </tr>\n",
       "    <tr>\n",
       "      <th>6</th>\n",
       "      <td>6</td>\n",
       "      <td>Touros</td>\n",
       "      <td>-5.1989</td>\n",
       "      <td>-35.4608</td>\n",
       "      <td>79.70</td>\n",
       "      <td>79</td>\n",
       "      <td>61</td>\n",
       "      <td>15.05</td>\n",
       "      <td>BR</td>\n",
       "      <td>2021-09-24 01:53:34</td>\n",
       "    </tr>\n",
       "    <tr>\n",
       "      <th>7</th>\n",
       "      <td>7</td>\n",
       "      <td>Muli</td>\n",
       "      <td>2.9167</td>\n",
       "      <td>73.5667</td>\n",
       "      <td>83.32</td>\n",
       "      <td>75</td>\n",
       "      <td>93</td>\n",
       "      <td>14.81</td>\n",
       "      <td>MV</td>\n",
       "      <td>2021-09-24 01:53:34</td>\n",
       "    </tr>\n",
       "    <tr>\n",
       "      <th>11</th>\n",
       "      <td>11</td>\n",
       "      <td>Cayenne</td>\n",
       "      <td>4.9333</td>\n",
       "      <td>-52.3333</td>\n",
       "      <td>82.09</td>\n",
       "      <td>83</td>\n",
       "      <td>0</td>\n",
       "      <td>1.01</td>\n",
       "      <td>GF</td>\n",
       "      <td>2021-09-24 01:53:35</td>\n",
       "    </tr>\n",
       "    <tr>\n",
       "      <th>18</th>\n",
       "      <td>18</td>\n",
       "      <td>Puerto Escondido</td>\n",
       "      <td>15.8500</td>\n",
       "      <td>-97.0667</td>\n",
       "      <td>81.32</td>\n",
       "      <td>83</td>\n",
       "      <td>81</td>\n",
       "      <td>3.04</td>\n",
       "      <td>MX</td>\n",
       "      <td>2021-09-24 01:53:36</td>\n",
       "    </tr>\n",
       "    <tr>\n",
       "      <th>26</th>\n",
       "      <td>26</td>\n",
       "      <td>Kapaa</td>\n",
       "      <td>22.0752</td>\n",
       "      <td>-159.3190</td>\n",
       "      <td>80.47</td>\n",
       "      <td>59</td>\n",
       "      <td>100</td>\n",
       "      <td>3.00</td>\n",
       "      <td>US</td>\n",
       "      <td>2021-09-24 01:53:38</td>\n",
       "    </tr>\n",
       "    <tr>\n",
       "      <th>31</th>\n",
       "      <td>31</td>\n",
       "      <td>Bethel</td>\n",
       "      <td>41.3712</td>\n",
       "      <td>-73.4140</td>\n",
       "      <td>75.56</td>\n",
       "      <td>92</td>\n",
       "      <td>90</td>\n",
       "      <td>1.99</td>\n",
       "      <td>US</td>\n",
       "      <td>2021-09-24 01:53:40</td>\n",
       "    </tr>\n",
       "    <tr>\n",
       "      <th>32</th>\n",
       "      <td>32</td>\n",
       "      <td>Avarua</td>\n",
       "      <td>-21.2078</td>\n",
       "      <td>-159.7750</td>\n",
       "      <td>75.25</td>\n",
       "      <td>53</td>\n",
       "      <td>40</td>\n",
       "      <td>6.91</td>\n",
       "      <td>CK</td>\n",
       "      <td>2021-09-24 01:51:49</td>\n",
       "    </tr>\n",
       "    <tr>\n",
       "      <th>37</th>\n",
       "      <td>37</td>\n",
       "      <td>Faanui</td>\n",
       "      <td>-16.4833</td>\n",
       "      <td>-151.7500</td>\n",
       "      <td>77.49</td>\n",
       "      <td>73</td>\n",
       "      <td>5</td>\n",
       "      <td>14.23</td>\n",
       "      <td>PF</td>\n",
       "      <td>2021-09-24 01:53:01</td>\n",
       "    </tr>\n",
       "  </tbody>\n",
       "</table>\n",
       "</div>"
      ],
      "text/plain": [
       "    City_ID              City      Lat       Lng  Max Temp  Humidity  \\\n",
       "0         0            Pauini  -7.7136  -66.9764     76.23        81   \n",
       "4         4    Nisia Floresta  -6.0911  -35.2086     79.61        83   \n",
       "6         6            Touros  -5.1989  -35.4608     79.70        79   \n",
       "7         7              Muli   2.9167   73.5667     83.32        75   \n",
       "11       11           Cayenne   4.9333  -52.3333     82.09        83   \n",
       "18       18  Puerto Escondido  15.8500  -97.0667     81.32        83   \n",
       "26       26             Kapaa  22.0752 -159.3190     80.47        59   \n",
       "31       31            Bethel  41.3712  -73.4140     75.56        92   \n",
       "32       32            Avarua -21.2078 -159.7750     75.25        53   \n",
       "37       37            Faanui -16.4833 -151.7500     77.49        73   \n",
       "\n",
       "    Cloudiness  Wind Speed Country                 Date  \n",
       "0           48        2.37      BR  2021-09-24 01:53:32  \n",
       "4           21        9.78      BR  2021-09-24 01:53:33  \n",
       "6           61       15.05      BR  2021-09-24 01:53:34  \n",
       "7           93       14.81      MV  2021-09-24 01:53:34  \n",
       "11           0        1.01      GF  2021-09-24 01:53:35  \n",
       "18          81        3.04      MX  2021-09-24 01:53:36  \n",
       "26         100        3.00      US  2021-09-24 01:53:38  \n",
       "31          90        1.99      US  2021-09-24 01:53:40  \n",
       "32          40        6.91      CK  2021-09-24 01:51:49  \n",
       "37           5       14.23      PF  2021-09-24 01:53:01  "
      ]
     },
     "execution_count": 37,
     "metadata": {},
     "output_type": "execute_result"
    }
   ],
   "source": [
    "# Filter the dataset to find the cities that fit the criteria.\n",
    "preferred_cities_df = city_data_df.loc[(city_data_df[\"Max Temp\"] <= max_temp) & \\\n",
    "                                       (city_data_df[\"Max Temp\"] >= min_temp)]\n",
    "preferred_cities_df.head(10)"
   ]
  },
  {
   "cell_type": "code",
   "execution_count": null,
   "id": "a7c088ae",
   "metadata": {},
   "outputs": [],
   "source": []
  },
  {
   "cell_type": "code",
   "execution_count": null,
   "id": "36ec82e9",
   "metadata": {},
   "outputs": [],
   "source": []
  }
 ],
 "metadata": {
  "kernelspec": {
   "display_name": "Python 3",
   "language": "python",
   "name": "python3"
  },
  "language_info": {
   "codemirror_mode": {
    "name": "ipython",
    "version": 3
   },
   "file_extension": ".py",
   "mimetype": "text/x-python",
   "name": "python",
   "nbconvert_exporter": "python",
   "pygments_lexer": "ipython3",
   "version": "3.8.8"
  }
 },
 "nbformat": 4,
 "nbformat_minor": 5
}
