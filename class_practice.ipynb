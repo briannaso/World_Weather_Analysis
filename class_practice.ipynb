{
 "cells": [
  {
   "cell_type": "code",
   "execution_count": 5,
   "id": "e886f0bb",
   "metadata": {},
   "outputs": [],
   "source": [
    "import requests"
   ]
  },
  {
   "cell_type": "code",
   "execution_count": 6,
   "id": "98736869",
   "metadata": {},
   "outputs": [],
   "source": [
    "url = 'https://api.nytimes.com/svc/topstories/v2/science.json?api-key=XpQlpXabPqCWqsb6jlCmD4KI3vIYlfla'"
   ]
  },
  {
   "cell_type": "code",
   "execution_count": 7,
   "id": "7455c39f",
   "metadata": {},
   "outputs": [],
   "source": [
    "data_from_api = requests.get(url).json()"
   ]
  },
  {
   "cell_type": "code",
   "execution_count": 22,
   "id": "9a2b0e84",
   "metadata": {},
   "outputs": [
    {
     "name": "stdout",
     "output_type": "stream",
     "text": [
      "In a First, Washington Will Draft Rules on Workplace Heat Dangers\n",
      "Covid Vaccine Prompts Strong Immune Response in Younger Children, Pfizer Says\n",
      "The F.D.A. is likely to make its long-awaited decision on Pfizer boosters this week.\n",
      "This Powerful Democrat Linked to Fossil Fuels Will Craft the U.S. Climate Plan\n",
      "Fighting a Pandemic, While Launching Africa’s Health Revolution\n",
      "SpaceX astronauts will get a health check after splashdown.\n",
      "The Inspiration4 flight showed space tourism’s potential and limitations.\n",
      "Are water landings from space safe?\n",
      "Coming up soon: The astronauts return to Earth.\n",
      "The Covid Crisis Is Now a Garbage Crisis, Too\n",
      "They Shunned Covid Vaccines but Embraced Antibody Treatment\n",
      "The Unconventional Weapon Against Future Wildfires: Goats\n",
      "SpaceX’s large cupola gave the astronauts, and us, a new window on planet Earth.\n",
      "Hours before the F.D.A. vote, the C.D.C. released a study showing waning protection of the Pfizer vaccine.\n",
      "Antony Hewish, Astronomer Honored for the Discovery of Pulsars, Dies at 97\n",
      "United Nations Warns of ‘Catastrophic Pathway’ With Current Climate Pledges\n",
      "A talk with Tom Cruise as the astronauts cruise around the planet.\n",
      "The Pain Wouldn’t Stop — Because Her Medication Had Been Stolen\n",
      "Where Did It All Go So Wrong for Juul?\n",
      "From ‘Jeff who?’ to ‘Thank you.’\n",
      "Sian Proctor is the first Black woman to pilot a spacecraft.\n",
      "Climate Scientists Forecast High Temperatures Into the Fall\n",
      "House Panel Expands Inquiry Into Climate Disinformation by Oil Giants\n"
     ]
    }
   ],
   "source": [
    "for article in data_from_api['results']:\n",
    "    print(article['title'])"
   ]
  },
  {
   "cell_type": "code",
   "execution_count": 23,
   "id": "2dae844d",
   "metadata": {},
   "outputs": [
    {
     "data": {
      "text/plain": [
       "list"
      ]
     },
     "execution_count": 23,
     "metadata": {},
     "output_type": "execute_result"
    }
   ],
   "source": [
    "type(data_from_api['results'])"
   ]
  },
  {
   "cell_type": "code",
   "execution_count": 24,
   "id": "f616432b",
   "metadata": {},
   "outputs": [
    {
     "data": {
      "text/plain": [
       "23"
      ]
     },
     "execution_count": 24,
     "metadata": {},
     "output_type": "execute_result"
    }
   ],
   "source": [
    "len(data_from_api['results'])"
   ]
  },
  {
   "cell_type": "code",
   "execution_count": 19,
   "id": "4afbf9a4",
   "metadata": {},
   "outputs": [
    {
     "name": "stdout",
     "output_type": "stream",
     "text": [
      "dict_keys(['section', 'subsection', 'title', 'abstract', 'url', 'uri', 'byline', 'item_type', 'updated_date', 'created_date', 'published_date', 'material_type_facet', 'kicker', 'des_facet', 'org_facet', 'per_facet', 'geo_facet', 'multimedia', 'short_url'])\n",
      "dict_keys(['section', 'subsection', 'title', 'abstract', 'url', 'uri', 'byline', 'item_type', 'updated_date', 'created_date', 'published_date', 'material_type_facet', 'kicker', 'des_facet', 'org_facet', 'per_facet', 'geo_facet', 'multimedia', 'short_url'])\n",
      "dict_keys(['section', 'subsection', 'title', 'abstract', 'url', 'uri', 'byline', 'item_type', 'updated_date', 'created_date', 'published_date', 'material_type_facet', 'kicker', 'des_facet', 'org_facet', 'per_facet', 'geo_facet', 'multimedia', 'short_url'])\n",
      "dict_keys(['section', 'subsection', 'title', 'abstract', 'url', 'uri', 'byline', 'item_type', 'updated_date', 'created_date', 'published_date', 'material_type_facet', 'kicker', 'des_facet', 'org_facet', 'per_facet', 'geo_facet', 'multimedia', 'short_url'])\n",
      "dict_keys(['section', 'subsection', 'title', 'abstract', 'url', 'uri', 'byline', 'item_type', 'updated_date', 'created_date', 'published_date', 'material_type_facet', 'kicker', 'des_facet', 'org_facet', 'per_facet', 'geo_facet', 'multimedia', 'short_url'])\n",
      "dict_keys(['section', 'subsection', 'title', 'abstract', 'url', 'uri', 'byline', 'item_type', 'updated_date', 'created_date', 'published_date', 'material_type_facet', 'kicker', 'des_facet', 'org_facet', 'per_facet', 'geo_facet', 'multimedia', 'short_url'])\n",
      "dict_keys(['section', 'subsection', 'title', 'abstract', 'url', 'uri', 'byline', 'item_type', 'updated_date', 'created_date', 'published_date', 'material_type_facet', 'kicker', 'des_facet', 'org_facet', 'per_facet', 'geo_facet', 'multimedia', 'short_url'])\n",
      "dict_keys(['section', 'subsection', 'title', 'abstract', 'url', 'uri', 'byline', 'item_type', 'updated_date', 'created_date', 'published_date', 'material_type_facet', 'kicker', 'des_facet', 'org_facet', 'per_facet', 'geo_facet', 'multimedia', 'short_url'])\n",
      "dict_keys(['section', 'subsection', 'title', 'abstract', 'url', 'uri', 'byline', 'item_type', 'updated_date', 'created_date', 'published_date', 'material_type_facet', 'kicker', 'des_facet', 'org_facet', 'per_facet', 'geo_facet', 'multimedia', 'short_url'])\n",
      "dict_keys(['section', 'subsection', 'title', 'abstract', 'url', 'uri', 'byline', 'item_type', 'updated_date', 'created_date', 'published_date', 'material_type_facet', 'kicker', 'des_facet', 'org_facet', 'per_facet', 'geo_facet', 'multimedia', 'short_url'])\n",
      "dict_keys(['section', 'subsection', 'title', 'abstract', 'url', 'uri', 'byline', 'item_type', 'updated_date', 'created_date', 'published_date', 'material_type_facet', 'kicker', 'des_facet', 'org_facet', 'per_facet', 'geo_facet', 'multimedia', 'short_url'])\n",
      "dict_keys(['section', 'subsection', 'title', 'abstract', 'url', 'uri', 'byline', 'item_type', 'updated_date', 'created_date', 'published_date', 'material_type_facet', 'kicker', 'des_facet', 'org_facet', 'per_facet', 'geo_facet', 'multimedia', 'short_url'])\n",
      "dict_keys(['section', 'subsection', 'title', 'abstract', 'url', 'uri', 'byline', 'item_type', 'updated_date', 'created_date', 'published_date', 'material_type_facet', 'kicker', 'des_facet', 'org_facet', 'per_facet', 'geo_facet', 'multimedia', 'short_url'])\n",
      "dict_keys(['section', 'subsection', 'title', 'abstract', 'url', 'uri', 'byline', 'item_type', 'updated_date', 'created_date', 'published_date', 'material_type_facet', 'kicker', 'des_facet', 'org_facet', 'per_facet', 'geo_facet', 'multimedia', 'short_url'])\n",
      "dict_keys(['section', 'subsection', 'title', 'abstract', 'url', 'uri', 'byline', 'item_type', 'updated_date', 'created_date', 'published_date', 'material_type_facet', 'kicker', 'des_facet', 'org_facet', 'per_facet', 'geo_facet', 'multimedia', 'short_url'])\n",
      "dict_keys(['section', 'subsection', 'title', 'abstract', 'url', 'uri', 'byline', 'item_type', 'updated_date', 'created_date', 'published_date', 'material_type_facet', 'kicker', 'des_facet', 'org_facet', 'per_facet', 'geo_facet', 'multimedia', 'short_url'])\n",
      "dict_keys(['section', 'subsection', 'title', 'abstract', 'url', 'uri', 'byline', 'item_type', 'updated_date', 'created_date', 'published_date', 'material_type_facet', 'kicker', 'des_facet', 'org_facet', 'per_facet', 'geo_facet', 'multimedia', 'short_url'])\n",
      "dict_keys(['section', 'subsection', 'title', 'abstract', 'url', 'uri', 'byline', 'item_type', 'updated_date', 'created_date', 'published_date', 'material_type_facet', 'kicker', 'des_facet', 'org_facet', 'per_facet', 'geo_facet', 'multimedia', 'short_url'])\n",
      "dict_keys(['section', 'subsection', 'title', 'abstract', 'url', 'uri', 'byline', 'item_type', 'updated_date', 'created_date', 'published_date', 'material_type_facet', 'kicker', 'des_facet', 'org_facet', 'per_facet', 'geo_facet', 'multimedia', 'short_url'])\n",
      "dict_keys(['section', 'subsection', 'title', 'abstract', 'url', 'uri', 'byline', 'item_type', 'updated_date', 'created_date', 'published_date', 'material_type_facet', 'kicker', 'des_facet', 'org_facet', 'per_facet', 'geo_facet', 'multimedia', 'short_url'])\n",
      "dict_keys(['section', 'subsection', 'title', 'abstract', 'url', 'uri', 'byline', 'item_type', 'updated_date', 'created_date', 'published_date', 'material_type_facet', 'kicker', 'des_facet', 'org_facet', 'per_facet', 'geo_facet', 'multimedia', 'short_url'])\n",
      "dict_keys(['section', 'subsection', 'title', 'abstract', 'url', 'uri', 'byline', 'item_type', 'updated_date', 'created_date', 'published_date', 'material_type_facet', 'kicker', 'des_facet', 'org_facet', 'per_facet', 'geo_facet', 'multimedia', 'short_url'])\n",
      "dict_keys(['section', 'subsection', 'title', 'abstract', 'url', 'uri', 'byline', 'item_type', 'updated_date', 'created_date', 'published_date', 'material_type_facet', 'kicker', 'des_facet', 'org_facet', 'per_facet', 'geo_facet', 'multimedia', 'short_url'])\n"
     ]
    }
   ],
   "source": [
    "for x in data_from_api['results']:\n",
    "    print(x.keys())"
   ]
  },
  {
   "cell_type": "code",
   "execution_count": null,
   "id": "3b2cb77b",
   "metadata": {},
   "outputs": [],
   "source": []
  }
 ],
 "metadata": {
  "kernelspec": {
   "display_name": "Python 3",
   "language": "python",
   "name": "python3"
  },
  "language_info": {
   "codemirror_mode": {
    "name": "ipython",
    "version": 3
   },
   "file_extension": ".py",
   "mimetype": "text/x-python",
   "name": "python",
   "nbconvert_exporter": "python",
   "pygments_lexer": "ipython3",
   "version": "3.8.8"
  }
 },
 "nbformat": 4,
 "nbformat_minor": 5
}
